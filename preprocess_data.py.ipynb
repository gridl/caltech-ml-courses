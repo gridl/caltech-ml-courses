{
 "cells": [
  {
   "cell_type": "code",
   "execution_count": 1,
   "metadata": {},
   "outputs": [
    {
     "name": "stdout",
     "output_type": "stream",
     "text": [
      "Populating the interactive namespace from numpy and matplotlib\n"
     ]
    },
    {
     "name": "stderr",
     "output_type": "stream",
     "text": [
      "/Users/illarionkhliestov/PycharmEnvs/pytorch/lib/python3.6/site-packages/IPython/core/magics/pylab.py:160: UserWarning: pylab import has clobbered these variables: ['imsave', 'imread']\n",
      "`%matplotlib` prevents importing * from pylab and numpy\n",
      "  \"\\n`%matplotlib` prevents importing * from pylab and numpy\"\n"
     ]
    }
   ],
   "source": [
    "import os\n",
    "\n",
    "import pandas as pd\n",
    "from scipy.misc import imread, imsave, imresize\n",
    "from tqdm import tqdm\n",
    "%pylab inline"
   ]
  },
  {
   "cell_type": "code",
   "execution_count": 58,
   "metadata": {},
   "outputs": [
    {
     "name": "stderr",
     "output_type": "stream",
     "text": [
      "100%|██████████| 258/258 [04:13<00:00,  3.01s/it]\n"
     ]
    }
   ],
   "source": [
    "def gray_to_color(image):\n",
    "    return np.repeat(image[:, :, np.newaxis], 3, axis=2)\n",
    "\n",
    "def resize_and_save(in_folder, out_folder, train=True, category_idx=None):\n",
    "    df_list = []\n",
    "    for image_fname in os.listdir(in_folder):\n",
    "        if not image_fname.endswith('.jpg'):\n",
    "            continue\n",
    "        if image_fname.startswith('.'):\n",
    "            continue\n",
    "        image_path = os.path.join(in_folder, image_fname)\n",
    "        if os.path.isdir(image_path):\n",
    "            continue\n",
    "        image = imread(image_path)\n",
    "        if len(image.shape) != 3:\n",
    "            image = gray_to_color(image)\n",
    "        # resize image\n",
    "        image = imresize(image, (64, 64), interp='bilinear')\n",
    "        # save new image\n",
    "        new_image_path = os.path.join(out_folder, image_fname)\n",
    "        imsave(new_image_path, image)\n",
    "        if train:\n",
    "            df_list.append({\n",
    "                'path': new_image_path,\n",
    "                'class_': category_idx\n",
    "            })\n",
    "        else:\n",
    "            df_list.append({'path': new_image_path})\n",
    "    return df_list\n",
    "    \n",
    "train_folder = '/Users/illarionkhliestov/Datasets/caltech-256/train/'\n",
    "train_out_folder = '/Users/illarionkhliestov/Datasets/caltech-256/train_resized/'\n",
    "df_list = []\n",
    "for category_dir in tqdm(os.listdir(train_folder)):\n",
    "    if category_dir.startswith('.'):\n",
    "        continue\n",
    "    category_idx, category_name = category_dir.split('.')\n",
    "    category_idx = int(category_idx)\n",
    "    category_path = os.path.join(train_folder, category_dir)\n",
    "    category_out_folder = os.path.join(train_out_folder, str(category_idx))\n",
    "    os.makedirs(category_out_folder, exist_ok=True)\n",
    "    df_list.extend(resize_and_save(category_path, category_out_folder, train=True, category_idx=category_idx))\n",
    "        \n",
    "df = pd.DataFrame.from_dict(df_list)\n",
    "df.to_csv('/Users/illarionkhliestov/Datasets/caltech-256/train.csv')\n",
    "\n",
    "test_folder = '/Users/illarionkhliestov/Datasets/caltech-256/test/'\n",
    "test_out_folder = '/Users/illarionkhliestov/Datasets/caltech-256/test_resized/'\n",
    "os.makedirs(test_out_folder, exist_ok=True)\n",
    "df_list = resize_and_save(test_folder, test_out_folder)\n",
    "df = pd.DataFrame.from_dict(df_list)\n",
    "df.to_csv('/Users/illarionkhliestov/Datasets/caltech-256/test.csv')"
   ]
  },
  {
   "cell_type": "code",
   "execution_count": 2,
   "metadata": {
    "collapsed": true
   },
   "outputs": [],
   "source": [
    "# split on train and test datasets\n",
    "df = pd.read_csv('/Users/illarionkhliestov/Datasets/caltech-256/train.csv', index_col=0)"
   ]
  },
  {
   "cell_type": "code",
   "execution_count": 28,
   "metadata": {},
   "outputs": [],
   "source": [
    "val_df = df.groupby('class_').head(20)\n",
    "val_df.to_csv('/Users/illarionkhliestov/Datasets/caltech-256/df_val_split.csv')\n",
    "val_df_pathes = val_df.path.unique().tolist()\n",
    "train_df = df[~df.path.isin(val_df_pathes)]\n",
    "train_df.to_csv('/Users/illarionkhliestov/Datasets/caltech-256/df_train_split.csv')"
   ]
  },
  {
   "cell_type": "code",
   "execution_count": 13,
   "metadata": {},
   "outputs": [
    {
     "data": {
      "text/plain": [
       "array(['class_', 'path'], dtype=object)"
      ]
     },
     "execution_count": 13,
     "metadata": {},
     "output_type": "execute_result"
    }
   ],
   "source": [
    "df.columns.values"
   ]
  },
  {
   "cell_type": "code",
   "execution_count": 24,
   "metadata": {},
   "outputs": [
    {
     "data": {
      "text/plain": [
       "1"
      ]
     },
     "execution_count": 24,
     "metadata": {},
     "output_type": "execute_result"
    }
   ],
   "source": [
    "df['class_'].min()"
   ]
  },
  {
   "cell_type": "code",
   "execution_count": 27,
   "metadata": {},
   "outputs": [
    {
     "data": {
      "text/plain": [
       "12.704375"
      ]
     },
     "execution_count": 27,
     "metadata": {},
     "output_type": "execute_result"
    }
   ],
   "source": [
    "train_df.shape[0] / 16 / 100"
   ]
  },
  {
   "cell_type": "code",
   "execution_count": null,
   "metadata": {
    "collapsed": true
   },
   "outputs": [],
   "source": []
  }
 ],
 "metadata": {
  "kernelspec": {
   "display_name": "Python 3",
   "language": "python",
   "name": "python3"
  },
  "language_info": {
   "codemirror_mode": {
    "name": "ipython",
    "version": 3
   },
   "file_extension": ".py",
   "mimetype": "text/x-python",
   "name": "python",
   "nbconvert_exporter": "python",
   "pygments_lexer": "ipython3",
   "version": "3.6.1"
  }
 },
 "nbformat": 4,
 "nbformat_minor": 2
}
